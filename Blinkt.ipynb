{
 "cells": [
  {
   "cell_type": "markdown",
   "metadata": {
    "slideshow": {
     "slide_type": "slide"
    }
   },
   "source": [
    "# Blinkt Code for Rainbow!!"
   ]
  },
  {
   "cell_type": "markdown",
   "metadata": {
    "slideshow": {
     "slide_type": "slide"
    }
   },
   "source": [
    "Objective:\n",
    "\n",
    "Play with Raspberry Pi's and Blinkt to create light effects."
   ]
  },
  {
   "cell_type": "markdown",
   "metadata": {
    "slideshow": {
     "slide_type": "slide"
    }
   },
   "source": [
    "Process:\n",
    "\n",
    "1. Connect Pi hardware (mouse, keyboard, monitor through hdmi, power supply). Blinkt LEDs connects through input/output.\n",
    "2. Uses Raspbian OS (debian based)\n",
    "3. Install Blinkt (using Pimoroni Dashboard)\n",
    "4. Using Blinkt Github documentation, code a lighting sequence."
   ]
  },
  {
   "cell_type": "code",
   "execution_count": null,
   "metadata": {
    "collapsed": true,
    "slideshow": {
     "slide_type": "slide"
    }
   },
   "outputs": [],
   "source": [
    "import blinkt\n",
    "from blinkt import set_pixel, set_brightness, show, clear\n",
    "import time\n",
    "while True:\n",
    "    clear()\n",
    "    show()\n",
    "    set_pixel(0,238,17,0)\n",
    "    set_brightness(0.5)\n",
    "    show()\n",
    "    time.sleep(0.5)\n",
    "    clear()\n",
    "    show()\n",
    "    set_pixel(1,255,68,34)\n",
    "    set_brightness(0.5)\n",
    "    show()\n",
    "    time.sleep(0.5)\n",
    "    clear()\n",
    "    show()\n",
    "    set_pixel(2,255,153,51)\n",
    "    set_brightness(0.5)\n",
    "    show()\n",
    "    time.sleep(0.5)\n",
    "    clear()\n",
    "    show()\n",
    "    set_pixel(3,204,187,51)\n",
    "    set_brightness(0.5)\n",
    "    show()\n",
    "    time.sleep(0.5)\n",
    "    clear()\n",
    "    show()\n",
    "    set_pixel(4,170,204,34)\n",
    "    set_brightness(0.5)\n",
    "    show()\n",
    "    time.sleep(0.5)\n",
    "    clear()\n",
    "    show()\n",
    "    set_pixel(5,34,204,170)\n",
    "    set_brightness(0.5)\n",
    "    show()\n",
    "    time.sleep(0.5)\n",
    "    clear()\n",
    "    show()\n",
    "    set_pixel(6,17,170,187)\n",
    "    set_brightness(0.5)\n",
    "    show()\n",
    "    time.sleep(0.5)\n",
    "    clear()\n",
    "    show()\n",
    "    set_pixel(7,51,17,187)\n",
    "    set_brightness(0.5)\n",
    "    show()\n",
    "    time.sleep(0.05)\n",
    "    set_brightness(0)\n",
    "    show()\n",
    "    time.sleep(1)"
   ]
  },
  {
   "cell_type": "markdown",
   "metadata": {
    "slideshow": {
     "slide_type": "slide"
    }
   },
   "source": [
    "Obstacles:\n",
    "\n",
    "1. HSV rainbow method looked difficult, decided to stick to RGB, but had to learn 'while loop' and figure out correct time settings. Initially assumed time setting was what was controlling on/off, but later learned that time.sleep only told program to 'wait' for however long. Once I knew that, I realized I would need to manually clear, set pixel, turn on, wait, clear, etc. for each LED.\n",
    "\n",
    "2. Code is overly long and could be simplified."
   ]
  },
  {
   "cell_type": "markdown",
   "metadata": {
    "slideshow": {
     "slide_type": "slide"
    }
   },
   "source": [
    "Lesson's Learned:\n",
    "\n",
    "1. Many ways to accomplish same end goal.\n",
    "\n",
    "2. Cleaning up code and making it neater just requires knowing the language more."
   ]
  },
  {
   "cell_type": "markdown",
   "metadata": {
    "slideshow": {
     "slide_type": "slide"
    }
   },
   "source": [
    "Projects that could utilize Blinkt or something similar:\n",
    "\n",
    "1. Morse code\n",
    "2. Visual cues for persons with hearing difficulties.\n",
    "3. Music and lighting projects\n",
    "4. IoT devices (maybe someone wants a smart flashlight?)"
   ]
  }
 ],
 "metadata": {
  "celltoolbar": "Slideshow",
  "kernelspec": {
   "display_name": "Python 3",
   "language": "python",
   "name": "python3"
  },
  "language_info": {
   "codemirror_mode": {
    "name": "ipython",
    "version": 3
   },
   "file_extension": ".py",
   "mimetype": "text/x-python",
   "name": "python",
   "nbconvert_exporter": "python",
   "pygments_lexer": "ipython3",
   "version": "3.6.3"
  }
 },
 "nbformat": 4,
 "nbformat_minor": 2
}
